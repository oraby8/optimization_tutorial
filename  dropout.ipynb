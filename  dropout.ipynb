{
 "cells": [
  {
   "cell_type": "code",
   "execution_count": 2,
   "metadata": {},
   "outputs": [],
   "source": [
    "import torch"
   ]
  },
  {
   "cell_type": "code",
   "execution_count": 42,
   "metadata": {},
   "outputs": [],
   "source": [
    "def dropout_with_scaling(X: torch.Tensor, dropout:float):\n",
    "    assert 0 <= dropout <= 1\n",
    "    if dropout == 1: return torch.zeros_like(X)\n",
    "    mask = (torch.rand(X.shape) > dropout).float()\n",
    "    return mask * X / (1.0 - dropout)\n",
    "\n",
    "def dropout_without_scaling(X:torch.Tensor, dropout: float):\n",
    "    assert 0 <= dropout <= 1\n",
    "    if dropout == 1: return torch.zeros_like(X)\n",
    "    mask = (torch.rand(X.shape) > dropout).float()\n",
    "    return mask * X"
   ]
  },
  {
   "cell_type": "code",
   "execution_count": 43,
   "metadata": {},
   "outputs": [
    {
     "name": "stdout",
     "output_type": "stream",
     "text": [
      "tensor([[ 0.,  1.,  2.,  3.,  4.,  5.,  6.,  7.],\n",
      "        [ 8.,  9., 10., 11., 12., 13., 14., 15.]])\n"
     ]
    }
   ],
   "source": [
    "X = torch.arange(16, dtype = torch.float32).reshape((2, 8))\n",
    "print(X)"
   ]
  },
  {
   "cell_type": "markdown",
   "metadata": {},
   "source": [
    "Why we do need scaling"
   ]
  },
  {
   "cell_type": "code",
   "execution_count": 44,
   "metadata": {},
   "outputs": [],
   "source": [
    "y_with_scaling = dropout_with_scaling(X, 0.2)\n",
    "y_without_scaling = dropout_without_scaling(X, 0.2)"
   ]
  },
  {
   "cell_type": "code",
   "execution_count": 45,
   "metadata": {},
   "outputs": [
    {
     "data": {
      "text/plain": [
       "(tensor(7.5000), tensor(22.6667))"
      ]
     },
     "execution_count": 45,
     "metadata": {},
     "output_type": "execute_result"
    }
   ],
   "source": [
    "X.mean(),X.var()"
   ]
  },
  {
   "cell_type": "code",
   "execution_count": 46,
   "metadata": {},
   "outputs": [
    {
     "data": {
      "text/plain": [
       "(tensor(6.8750), tensor(53.9583))"
      ]
     },
     "execution_count": 46,
     "metadata": {},
     "output_type": "execute_result"
    }
   ],
   "source": [
    "y_with_scaling.mean(),y_with_scaling.var()"
   ]
  },
  {
   "cell_type": "code",
   "execution_count": 47,
   "metadata": {},
   "outputs": [
    {
     "data": {
      "text/plain": [
       "(tensor(3.8750), tensor(21.9833))"
      ]
     },
     "execution_count": 47,
     "metadata": {},
     "output_type": "execute_result"
    }
   ],
   "source": [
    "y_without_scaling.mean(),y_without_scaling.var()"
   ]
  },
  {
   "cell_type": "markdown",
   "metadata": {},
   "source": [
    "Backpropagation"
   ]
  },
  {
   "cell_type": "code",
   "execution_count": 205,
   "metadata": {},
   "outputs": [
    {
     "data": {
      "text/plain": [
       "tensor([[ 0.,  1.,  2.,  3.,  4.,  5.,  6.,  7.],\n",
       "        [ 8.,  9., 10., 11., 12., 13., 14., 15.]], grad_fn=<ViewBackward0>)"
      ]
     },
     "execution_count": 205,
     "metadata": {},
     "output_type": "execute_result"
    }
   ],
   "source": [
    "pre_layer = torch.arange(16, dtype = torch.float32,requires_grad=True).reshape((2, 8))\n",
    "pre_layer"
   ]
  },
  {
   "cell_type": "code",
   "execution_count": 206,
   "metadata": {},
   "outputs": [],
   "source": [
    "dropout_layer = torch.nn.Dropout(0.5)"
   ]
  },
  {
   "cell_type": "code",
   "execution_count": 207,
   "metadata": {},
   "outputs": [],
   "source": [
    "act = dropout_layer(pre_layer)\n",
    "pre_layer.retain_grad()  "
   ]
  },
  {
   "cell_type": "code",
   "execution_count": 208,
   "metadata": {},
   "outputs": [
    {
     "data": {
      "text/plain": [
       "tensor([[ 0.,  2.,  0.,  0.,  0., 10., 12.,  0.],\n",
       "        [ 0., 18., 20.,  0., 24., 26.,  0.,  0.]], grad_fn=<MulBackward0>)"
      ]
     },
     "execution_count": 208,
     "metadata": {},
     "output_type": "execute_result"
    }
   ],
   "source": [
    "act"
   ]
  },
  {
   "cell_type": "code",
   "execution_count": 209,
   "metadata": {},
   "outputs": [
    {
     "data": {
      "text/plain": [
       "tensor(112., grad_fn=<SumBackward0>)"
      ]
     },
     "execution_count": 209,
     "metadata": {},
     "output_type": "execute_result"
    }
   ],
   "source": [
    "loss = act.sum()\n",
    "loss"
   ]
  },
  {
   "cell_type": "code",
   "execution_count": 210,
   "metadata": {},
   "outputs": [],
   "source": [
    "loss.backward()"
   ]
  },
  {
   "cell_type": "code",
   "execution_count": 211,
   "metadata": {},
   "outputs": [
    {
     "data": {
      "text/plain": [
       "tensor([[0., 2., 0., 0., 0., 2., 2., 0.],\n",
       "        [0., 2., 2., 0., 2., 2., 0., 0.]])"
      ]
     },
     "execution_count": 211,
     "metadata": {},
     "output_type": "execute_result"
    }
   ],
   "source": [
    "pre_layer.grad"
   ]
  },
  {
   "cell_type": "code",
   "execution_count": null,
   "metadata": {},
   "outputs": [],
   "source": []
  },
  {
   "cell_type": "code",
   "execution_count": null,
   "metadata": {},
   "outputs": [],
   "source": []
  },
  {
   "cell_type": "code",
   "execution_count": null,
   "metadata": {},
   "outputs": [],
   "source": []
  },
  {
   "cell_type": "code",
   "execution_count": 39,
   "metadata": {},
   "outputs": [],
   "source": [
    "import torch\n",
    "import triton\n",
    "import triton.language as tl\n",
    "\n",
    "@triton.jit\n",
    "def dropout_kernel(X, Y, MASK, N, P, BLOCK_SIZE: tl.constexpr):\n",
    "    pid = tl.program_id(0)\n",
    "    offsets = pid * BLOCK_SIZE + tl.arange(0, BLOCK_SIZE)\n",
    "    x = tl.load(X + offsets, mask=offsets < N, other=0.0)\n",
    "    mask = tl.load(MASK + offsets, mask=offsets < N, other=0)\n",
    "    y = x * mask / (1 - P)\n",
    "    tl.store(Y + offsets, y, mask=offsets < N)\n",
    "\n",
    "def dropout_triton(x, p=0.5, block_size=1024):\n",
    "    y = torch.empty_like(x)\n",
    "    mask = (torch.rand_like(x) > p).float().cuda()\n",
    "    grid = lambda meta: (triton.cdiv(x.numel(), meta['BLOCK_SIZE']),)\n",
    "    dropout_kernel[grid](x, y, mask, x.numel(), p, BLOCK_SIZE=block_size)\n",
    "    return y\n"
   ]
  },
  {
   "cell_type": "code",
   "execution_count": 41,
   "metadata": {},
   "outputs": [
    {
     "name": "stdout",
     "output_type": "stream",
     "text": [
      "tensor([ 0.0000, -0.3780,  0.0000,  0.0000,  2.7230, -2.7820, -1.6979, -0.6969,\n",
      "        -0.0000, -1.2190,  0.0000, -0.0000,  3.8628,  0.0000, -3.6797, -0.4877,\n",
      "        -0.0000, -1.1632, -0.0000, -0.0000,  2.4258,  2.9421, -0.0000,  3.0436],\n",
      "       device='cuda:0')\n"
     ]
    }
   ],
   "source": [
    "x = torch.randn(24).cuda()\n",
    "p = 0.5\n",
    "y = dropout_triton(x)\n",
    "print(y)"
   ]
  },
  {
   "cell_type": "code",
   "execution_count": null,
   "metadata": {},
   "outputs": [],
   "source": []
  }
 ],
 "metadata": {
  "kernelspec": {
   "display_name": "Python 3",
   "language": "python",
   "name": "python3"
  },
  "language_info": {
   "codemirror_mode": {
    "name": "ipython",
    "version": 3
   },
   "file_extension": ".py",
   "mimetype": "text/x-python",
   "name": "python",
   "nbconvert_exporter": "python",
   "pygments_lexer": "ipython3",
   "version": "3.10.12"
  }
 },
 "nbformat": 4,
 "nbformat_minor": 2
}
